{
  "cells": [
    {
      "cell_type": "markdown",
      "metadata": {
        "id": "jGUbzPnh1z4V"
      },
      "source": [
        "# Imports "
      ]
    },
    {
      "cell_type": "code",
      "execution_count": null,
      "metadata": {
        "id": "wE7EHe7-lqYt"
      },
      "outputs": [],
      "source": [
        "import requests\n",
        "from bs4 import BeautifulSoup\n",
        "import pprint as pprint\n",
        "from googlesearch import search\n",
        "import pandas as pd\n",
        "import os.path\n",
        "import urllib.parse"
      ]
    },
    {
      "cell_type": "markdown",
      "metadata": {
        "id": "S78bPfxszcMg"
      },
      "source": [
        "# Functions / Technical junk"
      ]
    },
    {
      "cell_type": "code",
      "execution_count": null,
      "metadata": {
        "id": "eQk_JraizfiX"
      },
      "outputs": [],
      "source": [
        "def search_code(target_list,num_to_search=10):\n",
        "  search_results = set()\n",
        "  for target in target_list:\n",
        "    for site in search(target,tld='co.in',num=10,stop=num_to_search,pause=15):\n",
        "          search_results.add(site)\n",
        "  return search_results"
      ]
    },
    {
      "cell_type": "code",
      "execution_count": null,
      "metadata": {
        "id": "jricayON2Eo9"
      },
      "outputs": [],
      "source": [
        "#Quality check data based on the file extension\n",
        "def is_valid_data_type(href, data_types):\n",
        "    return any(href.endswith(data_type) for data_type in data_types) #Checks to see what the href ends up with, such as .csv, .xls, .json, .zip"
      ]
    },
    {
      "cell_type": "code",
      "execution_count": null,
      "metadata": {
        "id": "0P6HseqC9rcA"
      },
      "outputs": [],
      "source": [
        "def has_valid_tag(filename, tags):\n",
        "    for tag in tags:\n",
        "        if tag.lower() in filename.lower():\n",
        "            return True\n",
        "    return False"
      ]
    },
    {
      "cell_type": "code",
      "execution_count": null,
      "metadata": {
        "id": "XHkifjmg1xgS"
      },
      "outputs": [],
      "source": [
        "search_target_list = ['Agronomic data','Field boundary','Farm boundaries','Field boundary data','Agricultural land boundaries','Crop acreage data','Land use data','Climate zones for agriculture','Harvest data','Plant growth data']\n",
        "search_affix = 'https://www.google.com/search?q='"
      ]
    },
    {
      "cell_type": "markdown",
      "metadata": {
        "id": "7F6ISldOzVx5"
      },
      "source": [
        "# Google Search Scraper Code\n",
        "\n"
      ]
    },
    {
      "cell_type": "code",
      "execution_count": null,
      "metadata": {
        "id": "OHlyQmFcCoUP"
      },
      "outputs": [],
      "source": [
        "target_sites = set()"
      ]
    },
    {
      "cell_type": "code",
      "execution_count": null,
      "metadata": {
        "id": "5I6RwrQnTND0"
      },
      "outputs": [],
      "source": [
        "target_sites.update(search_code(search_target_list))"
      ]
    },
    {
      "cell_type": "markdown",
      "metadata": {
        "id": "B1N2Y1gcnBjO"
      },
      "source": [
        "\\Write these links^ into a file, list or pandas series\n",
        "Call list later on in download code"
      ]
    },
    {
      "cell_type": "markdown",
      "metadata": {
        "id": "8wDjeq81FIIA"
      },
      "source": [
        "# Expand Search Code\n",
        "Search all subdomains"
      ]
    },
    {
      "cell_type": "code",
      "execution_count": null,
      "metadata": {
        "id": "wUR3treiVtd4"
      },
      "outputs": [],
      "source": [
        "expansion_site_target = set()"
      ]
    },
    {
      "cell_type": "code",
      "execution_count": null,
      "metadata": {
        "id": "47tGXs3MDR4j"
      },
      "outputs": [],
      "source": [
        "for url in target_sites:\n",
        "  url = str(url)\n",
        "  url_split = url.split('/')\n",
        "  domain = url_split[2]\n",
        "  expansion_site_target.add('site:' + domain)\n"
      ]
    },
    {
      "cell_type": "code",
      "execution_count": null,
      "metadata": {
        "colab": {
          "background_save": true
        },
        "id": "z1Ld4WWCWng9"
      },
      "outputs": [],
      "source": [
        "print(len(expansion_site_target))"
      ]
    },
    {
      "cell_type": "code",
      "execution_count": null,
      "metadata": {
        "colab": {
          "background_save": true
        },
        "id": "ma2PKUq6htaP"
      },
      "outputs": [],
      "source": [
        "target_sites.update(search_code(expansion_site_target,10))"
      ]
    },
    {
      "cell_type": "code",
      "execution_count": null,
      "metadata": {
        "colab": {
          "background_save": true,
          "base_uri": "https://localhost:8080/"
        },
        "id": "hhzrHq7AWbNn",
        "outputId": "bd59a15f-132b-4eea-853c-e4750b9995cc"
      },
      "outputs": [
        {
          "name": "stdout",
          "output_type": "stream",
          "text": [
            "613\n",
            "{'http://www.adfg.alaska.gov/techpap/tp223.pdf', 'https://futurefarmermag.com/help-maximize-agronomic-data-value-with-a-six-step-approach/', 'https://usda.library.cornell.edu/concern/publications/j098zb09z', 'https://www.farmers.gov/archived/pathh', 'https://www.lawinsider.com/dictionary/yeal', 'https://usda.github.io/data-standards/', 'https://www.field-boundary.com/technology', 'https://www.lexisnexis.com/legalnewsroom/environmental/b/environmentalregulation/posts/defining-quot-big-data-quot-in-agriculture', 'https://www.researchgate.net/', 'https://www.field-boundary.com/countries', 'https://downloads.usda.library.cornell.edu/usda-esmis/files/z603qx40z/3x816q50h/0v838324j/TBS-04-05-2001.pdf.sec', 'https://www.nap.edu/25531', 'https://eos.com/industries/forestry/', 'https://garden.org/newsletter/', 'https://youssefraafat57.medium.com/', 'https://www.fsa.usda.gov/Internet/FSA_File/food_security_act_1985.pdf', 'https://www.farmingfornature.ie/news/', 'https://nph.onlinelibrary.wiley.com/toc/14698137/0/ja', 'https://secure.wildlife.alaska.gov/CommunityHarvest/Home/Group', 'https://data.nal.usda.gov/node/5204/download', 'https://www.opb.org/election2022/', 'https://www.lexisnexis.com/en-hk', 'https://www.agriculture.com/news/machinery', 'https://secure.wildlife.alaska.gov/CommunityHarvest', 'https://www.opb.org/schedules/', 'https://www.gov.wales/forestry', 'https://www.arcgis.com/home/item.html?id=02ad99a2644f42729026744c6c6c4099', 'https://farmwildlife.info/author/kathryn/', 'https://www.sciencedirect.com/journal/aquaculture', 'https://mg.ucanr.edu/20ImpactReport/', 'https://www.agriculture.com/machinery', 'https://planthardiness.ars.usda.gov/', 'https://www.lexisnexis.com/hottopics/dccode/', 'https://repository.cimmyt.org/community-list', 'https://farmdocdaily.illinois.edu/farmdoc-team/joana-colussi', 'https://www.farm-and-food.com/tag/blog/', 'https://www.parsehub.com/terms', 'https://arvaintelligence.com/about-us/', 'https://www.usgs.gov/special-topics/land-use-land-cover-modeling/data', 'https://www.farm-and-food.com/bodengesundheit/', 'https://www.opb.org/article/2023/03/27/oregon-semiconductor-land-use-agriculture-legislation/', 'https://futurefarmermag.com/', 'https://blogs.worldbank.org/climatechange', 'https://www.fws.gov/refuge/delevan', 'https://wdfw.wa.gov/hunting/management/game-harvest', 'https://www.fsa.usda.gov/Internet/FSA_File/pcd5.pdf', 'https://data.nal.usda.gov/node/22157/download', 'https://medium.com/knowable', 'https://planthardiness.ars.usda.gov/pages/view-maps?syclid=cggqrskf7cbtir711cp0&utm_campaign=emailmarketing_124777955462&utm_medium=email&utm_source=shopify_email', 'https://www.acrevalue.com/sales/SC/', 'https://www.harvestyourdata.com/pricing/', 'https://www.octoparse.com/about', 'https://www.adfg.alaska.gov/sf/publications/', 'https://www.field-boundary.com/privacy-policy', 'https://www.lexisnexis.com/uk/lexispsl', 'https://www.usgs.gov/news', 'https://www.adfg.alaska.gov/sf/FishingReports/', 'https://www.youtube.com/pair', 'https://nph.onlinelibrary.wiley.com/doi/full/10.1111/nph.17610#nph17610-sec-0019-title', 'https://futurefarmermag.com/author/marisa/', 'https://www.fws.gov/nativeamerican/', 'https://www.arcgis.com/', 'https://arvaintelligence.com/agronomic-solutions/', 'https://gisgeography.com/quickmapservices/', 'https://www.viqtorysports.com/about/', 'https://adelinedimond.medium.com/', 'https://www.harvestyourdata.com/learn/faq/', 'https://www.viqtorysports.com/podcast/', 'https://www.farmingfornature.ie/login/', 'https://secure.wildlife.alaska.gov/CommunityHarvest/Home/Household', 'https://www.fsa.usda.gov/Internet/FSA_File/sf3107.pdf', 'https://downloads.usda.library.cornell.edu/usda-esmis/files/tm70mv177/k0698t917/rj430r77v/crop0620.pdf', 'https://fsa.usda.gov/equity/index', 'https://en.wikipedia.org/wiki/Matt_LeBlanc', 'https://gisgeography.com/mapbox/', 'https://catalog.data.gov/report', 'https://blogs.worldbank.org/trade', 'https://www.arcgis.com/apps/dashboards/79f18a984b1746a0af7a1dbcc37b1c69', 'https://www.harvestyourdata.com/features/', 'https://www.arcgis.com/features/plans/pricing.html', 'https://farmdocdaily.illinois.edu/sponsors', 'http://wildlife.utah.gov/cougar', 'https://www.frontiersin.org/', 'https://www.sciencedirect.com/journal/engineering', 'https://en.wikipedia.org/wiki/Hardiness_zone#European_hardiness_zones', 'https://www.farmingfornature.ie/forum/', 'https://wdfw.wa.gov/about/jobs', 'https://withleaf.io/products/field-boundary-management/', 'https://farmwildlife.info/category/bats/', 'https://eos.com/products/crop-monitoring/custom-solutions/field-boundaries-detection/', 'https://garden.org/apps/swap', 'https://www.pgc.pa.gov/Wildlife/Pages/default.aspx', 'https://repository.cimmyt.org/handle/10883/20235', 'https://www.usgs.gov/connect/headquarters', 'https://www.gov.wales/atisn17219', 'https://www.nass.usda.gov/Surveys/Guide_to_NASS_Surveys/TOTAL/index.php', 'https://www.frontiersin.org/articles/409752', 'https://www.harvestyourdata.com/about/', 'https://wdfw.wa.gov/publications/00061', 'https://withleaf.io/products/', 'https://blogs.worldbank.org/energy', 'https://www.fws.gov/hollabend/', 'https://www.frontiersin.org/about/values', 'https://mg.ucanr.edu/Gardening/ClimateZones/', 'https://garden.org/about/staff/', 'https://www.nass.usda.gov/Census_by_State/Hawaii/', 'https://wildlife.utah.gov/elaeophorosis.html', 'https://www.field-boundary.com/for-your-app', 'https://www.usgs.gov/science/observatories', 'https://www.farmers.gov/coronavirus', 'https://www.parsehub.com/contact', 'https://www.nass.usda.gov/Charts_and_Maps/Crops_County/boundary_maps/indexgif.php', 'https://www.parsehub.com/blog/scrape-glassdoor/', 'https://usda.library.cornell.edu/concern/publications/df65v786z', 'https://acsess.onlinelibrary.wiley.com/journal/23253606', 'https://www.parsehub.com/what_is_web_scraping', 'https://www.researchgate.net/about', 'https://eos.com/ru/products/', 'https://usda.github.io/RIDB', 'https://farmwildlife.info/', 'https://www.agriculture.com/machinery/harvesting', 'https://farmwildlife.info/how-to-do-it-5/field-boundaries/', 'https://www.lawinsider.com/dictionary/agronomic-data', 'https://acsess.onlinelibrary.wiley.com/loi/14350653', 'https://www.octoparse.com/product', 'https://repository.cimmyt.org/handle/10883/16799', 'https://nph.onlinelibrary.wiley.com/journal/14698137', 'https://www.agriculture.com/family/women-in-agriculture/not-all-boundaries-are-physical', 'https://www.fsa.usda.gov/Internet/FSA_File/civilserviceretirementfactsri8.pdf', 'https://www.farmingfornature.ie/nominees/', 'https://nph.onlinelibrary.wiley.com/doi/10.1111/nph.14475', 'https://www.pgc.pa.gov/Education/pages/default.aspx', 'https://www.youtube.com/t/partnerships_faq', 'https://ourworldindata.org/land-use#land-use-by-crop', 'https://acsess.onlinelibrary.wiley.com/journal/21632812', 'https://www.farm-and-food.com/impressum/', 'https://www.usgs.gov/', 'https://acsess.onlinelibrary.wiley.com/usage-permissions', 'https://www.octoparse.com/tutorial', 'https://secure.wildlife.alaska.gov/ePermit', 'https://withleaf.io/customers', 'https://eos.com/landviewer/', 'https://www.lawinsider.com/dictionary', 'https://www.adfg.alaska.gov/techpap/tp324.pdf', 'https://www.opb.org/pdf/toxic_air_complaint_bw198i_1527194772643.pdf', 'https://en.wikipedia.org/wiki/Handkerchief_code', 'https://kokumura.medium.com/', 'https://gisgeography.com/', 'https://catalog.data.gov/dataset/webta', 'https://www.farmingfornature.ie/events/', 'https://www.fws.gov/harvestsurvey/harvest-vis', 'https://en.wikipedia.org/wiki/OSI_model', 'https://data.nal.usda.gov/ars_api', 'https://mg.ucanr.edu/Social/', 'https://www.viqtorysports.com/registration/', 'https://wdfw.wa.gov/publications', 'https://www.field-boundary.com/references', 'https://farmwildlife.info/information-advice/', 'https://garden.org/special/downloads/', 'https://www.nap.edu/updates', 'https://www.farm-and-food.com/en/', 'https://www.acrevalue.com/sales/ND/', 'https://bigdata.cgiar.org/wphash_ntf_bar/', 'https://www.researchgate.net/topic/Conferences', 'https://ourworldindata.org/', 'https://www.youtube.com/watch?v=3eMQFMyJTCU', 'https://www.nap.edu/26428', 'https://withleaf.io/company/', 'https://www.sciencedirect.com/journal/ophthalmology', 'https://www.gov.wales/digital', 'https://medium.com/midform', 'https://www.opb.org/privacy/', 'https://secure.wildlife.alaska.gov/SubsistenceHunt/Home/Identity', 'https://mg.ucanr.edu/Support/', 'https://www.lawinsider.com/dictionary/beverages', 'https://www.gov.wales/water', 'https://wdfw.wa.gov/publications/00043', 'https://www.octoparse.com/', 'https://usda.library.cornell.edu/concern/publications/r207tp32d', 'https://ourworldindata.org/land-use', 'https://www.farmers.gov/sites/default/files/2022-02/fsa-cropacreagereporting-factsheet-22.pdf', 'https://usda.github.io/data-standards/data-elements/index.html', 'https://www.nap.edu/12720', 'https://gisgeography.com/free-global-land-cover-land-use-data/', 'https://acsess.onlinelibrary.wiley.com/doi/abs/10.2134/agronj2008.0080F', 'https://downloads.usda.library.cornell.edu/usda-esmis/files/x633f100h/zp38wx43m/bk128w44q/pspl0320.pdf', 'https://arvaintelligence.com/', 'https://www.farm-and-food.com/download/', 'https://arvaintelligence.com/blog/agronomy/', 'https://blogs.worldbank.org/', 'https://repository.cimmyt.org/', 'http://www.lexisnexis.com/india/', 'https://www.field-boundary.com/rest-api', 'https://www.farmers.gov/', 'https://www.viqtorysports.com/shop/', 'https://www.arcgis.com/home/item.html?id=ac7d71deb11d4d0ba9c62e46abfb2e03', 'https://farmwildlife.info/events/', 'https://www.viqtorysports.com/resources/', 'https://www.fsa.usda.gov/', 'https://bigdata.cgiar.org/resource/page/13/', 'https://barackobama.medium.com/', 'https://catalog.data.gov/', 'https://en.wikipedia.org/wiki/Cocaine_Bear', 'https://wdfw.wa.gov/publications/00727', 'https://bigdata.cgiar.org/communities-of-practice/data-driven-agronomy/', 'https://www.fws.gov/nrdar', 'https://en.wikipedia.org/wiki/Hardiness_zone', 'https://www.acrevalue.com/pro/', 'https://www.farmers.gov/working-with-us/crop-acreage-reports', 'https://www.pgc.pa.gov/Wildlife/Pages/NuisanceWildlife.aspx', 'https://www.fws.gov/cbra/', 'https://ourworldindata.org/books', 'https://nph.onlinelibrary.wiley.com/doi/full/10.1111/nph.17610#nph17610-sec-0012-title', 'https://www.acrevalue.com/map/', 'https://www.nass.usda.gov/Census_by_State/Virginia/', 'https://www.octoparse.com/blog/data-harvesting-data-mining-whats-the-difference', 'https://www.nap.edu/25061', 'https://privatelands.wdfw.wa.gov/', 'https://downloads.usda.library.cornell.edu/usda-esmis/files/j098zb09z/0z70b374s/w9506686w/acrg0622.pdf', 'https://usda.github.io/data-standards/data-elements/Field_Number.html', 'https://withleaf.io/resources', 'https://farmdocdaily.illinois.edu/site-search', 'https://blogs.worldbank.org/water', 'https://www.researchgate.net/jobs', 'https://secure.wildlife.alaska.gov/ePermit/Home/PrintPermitLandingPage', 'https://garden.org/apps/calendar/', 'https://planthardiness.ars.usda.gov/datasets', 'https://www.agriculture.com/livestock', 'https://www.gov.wales/fusion', 'https://www.fsa.usda.gov/Internet/FSA_File/frbweb_empuserguide.pdf', 'https://www.gov.wales/atisn17201', 'https://momentum.medium.com/', 'https://garden.org/apps/ask/', 'https://nph.onlinelibrary.wiley.com/doi/full/10.1111/nph.17610', 'https://www.viqtorysports.com/merch/', 'https://medium.com/geekculture/%D1%81r%D0%BE%D1%80-field-boundary-detection-approaches-and-main-challenges-46e37dd276bc', 'https://www.frontiersin.org/articles/10.3389/frai.2021.744863/full#h3', 'https://farmwildlife.info/author/john/', 'https://www.parsehub.com/features', 'https://www.frontiersin.org/articles/694523', 'https://www.nass.usda.gov/Quick_Stats/', 'https://www.arcgis.com/apps/workforce/', 'https://www.frontiersin.org/articles/10.3389/fpls.2022.989304/full#h1', 'https://www.youtube.com/premium', 'https://mg.ucanr.edu/About_Us/', 'https://www.frontiersin.org/articles/10.3389/frai.2021.744863/full#h5', 'https://gisgeography.com/geostatistics/', 'https://www.adfg.alaska.gov/techpap/tp214.pdf', 'https://www.fsa.usda.gov/Internet/FSA_File/conact.pdf', 'https://blogs.worldbank.org/opendata/data-harvesting-what-it-and-how-can-you-benefit', 'https://wildlife.utah.gov/nasp', 'https://arvaintelligence.com/contact/', 'https://blogs.worldbank.org/allaboutfinance', 'https://www.field-boundary.com/data-sources', 'https://nph.onlinelibrary.wiley.com/toc/14698137/0/0', 'https://usda.library.cornell.edu/concern/publications/pz50hd694', 'https://www.lawinsider.com/dictionary/relevancy', 'https://catalog.data.gov/dataset/giovanni', 'https://www.viqtorysports.com/blogs/', 'https://arvaintelligence.com/blog/', 'https://www.parsehub.com/quickstart', 'https://www.sciencedirect.com/journal/carbon', 'https://usda.library.cornell.edu/concern/publications/rn301137d', 'https://usda.library.cornell.edu/concern/publications/x059c7329', 'https://downloads.usda.library.cornell.edu/usda-esmis/files/5m60qr89m/4j03dx298/2n49v1308/CNAACPS.PDF', 'https://data.nal.usda.gov/dataset/pal', 'https://www.arcgis.com/home/item.html?id=cdbb63976446453e9f176c8f72ba9eca', 'https://www.opb.org/contestrules/', 'https://www.farm-and-food.com/tickets/', 'https://www.researchgate.net/topic/Membranes', 'https://arvaintelligence.com/author/johnm/', 'https://www.octoparse.com/blog', 'https://www.farmers.gov/data', 'https://en.wikipedia.org/wiki/Hardiness_zone#Macaronesia', 'https://www.nap.edu/26399', 'https://arvaintelligence.com/cookie-policy/', 'https://futurefarmermag.com/hot/', 'https://status.withleaf.io/', 'https://eos.com/landviewer/maldives/', 'https://bigdata.cgiar.org/partners-updates/', 'https://www.youtube.com/@NFL', 'https://www.gov.uk/identitycards', 'https://repository.cimmyt.org/handle/10883/18836', 'https://repository.cimmyt.org/contact', 'https://www.nass.usda.gov/Data_and_Statistics/', 'https://www.gov.uk/checkyourpay', 'https://nph.onlinelibrary.wiley.com/doi/10.1111/nph.14173', 'https://apps.fsa.usda.gov/acr/', 'https://nph.onlinelibrary.wiley.com/doi/10.1111/nph.15716', 'https://www.farmers.gov/blog', 'https://nph.onlinelibrary.wiley.com/journal/14698137/tansley-reviews', 'https://gisgeography.com/arctoolbox/', 'https://planthardiness.ars.usda.gov/pages/view-maps?syclid=cg1dvgkf7cbqb9pas5og&utm_campaign=emailmarketing_124777955462&utm_medium=email&utm_source=shopify_email', 'https://www.pgc.pa.gov/HuntTrap/Hunting/Pages/default.aspx', 'https://www.youtube.com/sharing', 'https://www.researchgate.net/blog', 'https://www.gov.uk/lifetimeisa', 'https://www.nass.usda.gov/', 'https://www.opb.org/show/relativefiction/', 'https://www.researchgate.net/login', 'https://www.harvestyourdata.com/examples/', 'https://www.frontiersin.org/articles/10.3389/frai.2021.744863/full', 'https://gisgeography.com/free-global-land-cover-land-use-data/#2-global-land-survey-gls', 'https://www.viqtorysports.com/what-does-field-boundary-mean-in-football/', 'https://acsess.onlinelibrary.wiley.com/journal/25782703', 'https://www.farmingfornature.ie/contact/', 'https://www.lexisnexis.com/hottopics/arcode/', 'https://usda.library.cornell.edu/concern/publications/5t34sj573', 'https://www.gov.uk/floodsdestroy', 'https://www.farmers.gov/loans', 'https://www.arcgis.com/home/item.html?id=6f250198d8e4461db70a1b5f055172fb', 'https://farmdocdaily.illinois.edu/2021/06/estimating-total-crop-acres-in-the-us.html', 'https://en.wikipedia.org/wiki/Holism', 'https://www.gov.uk/government/statistics/agricultural-land-use-in-england', 'https://ourworldindata.org/land-use#breakdown-of-global-land-use-today', 'https://data.nal.usda.gov/node/12338/download', 'https://usda.library.cornell.edu/concern/publications/tm70mv177', 'https://www.farmingfornature.ie/awards/', 'https://farmdocdaily.illinois.edu/markets', 'https://usda.library.cornell.edu/concern/publications/sq87bt648', 'https://www.field-boundary.com/', 'http://www.lexisnexis.com/taiwan', 'https://eos.com/landviewer/australia/', 'https://www.farmers.gov/contact', 'http://www.adfg.alaska.gov/techpap/tp004.pdf', 'https://www.youtube.com/channel/UCKcx1uK38H4AOkmfv4ywlrg', 'https://www.nass.usda.gov/Education_and_Outreach/Understanding_Statistics/FSA_Acreage.pdf', 'https://www.octoparse.com/help', 'https://en.wikipedia.org/wiki/Cheltenham_Festival', 'https://gisgeography.com/geocoders/', 'https://www.farm-and-food.com/review-biotech/', 'https://www.frontiersin.org/articles/571389', 'https://www.usgs.gov/node/288031', 'https://secure.wildlife.alaska.gov/ePermit/Home/ExtraDemog', 'https://gisgeography.com/georeferencing/', 'https://www.adfg.alaska.gov/sf/EONR/', 'https://www.usgs.gov/legal', 'https://planthardiness.ars.usda.gov/pages/view-maps?syclid=cfsgjacf7cbk9qsj15dg&utm_campaign=emailmarketing_124777955462&utm_medium=email&utm_source=shopify_email', 'https://www.fsa.usda.gov/Internet/FSA_File/sf3106.pdf', 'https://wildlife.utah.gov/gslep/', 'https://www.lexisnexis.com/PowerInvoice/', 'https://farmdocdaily.illinois.edu/ifes', 'https://www.field-boundary.com/pricing', 'https://www.octoparse.com/featurescomparison', 'https://withleaf.io/', 'https://ourworldindata.org/faqs', 'https://www.usgs.gov/products/data', 'https://www.gov.uk/government/statistics/agricultural-land-use-in-england/agricultural-land-use-in-england-at-1-june-2022', 'https://farmdocdaily.illinois.edu/farmdoc-team/ryan-hanrahan', 'https://www.nass.usda.gov/Research_and_Science/', 'https://usda.library.cornell.edu/about?locale=en', 'https://arvaintelligence.com/testing-page/', 'https://www.fws.gov/southeast/', 'https://secure.wildlife.alaska.gov/ePermit/Home/Demog', 'https://nph.onlinelibrary.wiley.com/doi/full/10.1111/nph.17610#nph17610-sec-0003-title', 'https://garden.org/forums/', 'https://www.fsa.usda.gov/Internet/FSA_File/eopfhrspecv4.pdf', 'https://www.field-boundary.com/imprint', 'https://www.nap.edu/catalog/26228', 'https://www.nass.usda.gov/Census_by_State/Wisconsin/', 'https://garden.org/apps/', 'https://en.wikipedia.org/wiki/Hardiness_zone#United_States_hardiness_zones_(USDA_scale)', 'https://www.usgs.gov/node/317340', 'https://www.gov.wales/', 'https://www.researchgate.net/publication/43270417_Publishing_Agronomic_Data', 'https://data.nal.usda.gov/node/22146/download', 'https://garden.org/nga/zipzone/', 'https://downloads.usda.library.cornell.edu/usda-esmis/files/cn69m4128/9w032593w/qr46r4071/tb1874.pdf', 'https://bigdata.cgiar.org/youth-in-data/', 'https://www.nap.edu/24740', 'https://www.farmingfornature.ie/your-farm/by-habitat/field-boundaries/', 'https://arvaintelligence.com/press/', 'https://www.frontiersin.org/articles/10.3389/fpls.2022.989304/full#h2', 'https://mg.ucanr.edu/Gardening/', 'https://www.pgc.pa.gov/Education/NationalArcheryInTheSchoolsProgram/Pages/default.aspx', 'https://www.agriculture.com/', 'http://www.gov.uk/travelaware', 'https://www.nass.usda.gov/Research_and_Science/stratafront2b.php', 'https://mg.ucanr.edu/Events/', 'https://en.wikipedia.org/wiki/Michigan_Wolverines_football', 'https://www.youtube.com/t/policy_cns', 'https://wildlife.utah.gov/antlerless.html', 'https://www.farmers.gov/translations', 'https://www.lawinsider.com/dictionary/commissary', 'https://www.fws.gov/verobeach/', 'https://bigdata.cgiar.org/ambassadors/', 'https://www.agriculture.com/news', 'https://www.nap.edu/read/24892/chapter/5', 'https://bigdata.cgiar.org/event/', 'https://www.field-boundary.com/contact', 'https://wdfw.wa.gov/fishing/locations', 'https://www.usgs.gov/centers/eros/science/national-land-cover-database', 'https://usda.github.io/data-standards/data-elements/CLU_Identifier.html', 'https://www.sciencedirect.com/topics', 'https://futurefarmermag.com/category/influencers/', 'https://www.acrevalue.com/sales/MI/', 'https://gisgeography.com/geoenrichment/', 'https://www.farmingfornature.ie/register/', 'https://data.nal.usda.gov/node/12796/download', 'https://garden.org/', 'https://farmdocdaily.illinois.edu/about/our-people', 'https://www.researchgate.net/topic/Chromatography', 'https://downloads.usda.library.cornell.edu/usda-esmis/files/2j62s492k/ws85bh854/k930cz63g/FVWAPLPROC.PDF', 'https://arvaintelligence.com/environmental-assets/', 'https://www.viqtorysports.com/', 'https://nph.onlinelibrary.wiley.com/', 'https://www.frontiersin.org/journals', 'https://usda.github.io/data-standards/data-elements/Administrative_State_Fsa_Code.html', 'https://www.farm-and-food.com/', 'https://secure.wildlife.alaska.gov/SubsistenceHunt', 'https://www.acrevalue.com/', 'http://www.lexisnexis.com/uk/nexisnx', 'https://acsess.onlinelibrary.wiley.com/journal/15474631', 'https://garden.org/ideas/podcast/', 'https://www.octoparse.com/joinaffiliateprogram', 'https://wildlife.utah.gov/muskie', 'https://ourworldindata.org/polio', 'https://fsa.usda.gov/farmworkers/index', 'https://www.pgc.pa.gov/HuntTrap/Hunting/Pages/MentoredHuntingPrograms.aspx', 'https://farmwildlife.info/tag/arable/', 'https://www.researchgate.net/figure/1-Crops-reported-in-crop-acreage-data_tbl2_254426026', 'https://wdfw.wa.gov/publications/01532', 'https://www.arcgis.com/features/features-analytics.html', 'https://data.nal.usda.gov/node/12276/download', 'https://ourworldindata.org/land-use#agricultural-land-use-per-person', 'https://mg.ucanr.edu/FindUs/', 'https://futurefarmermag.com/archives/', 'https://www.nass.usda.gov/Publications/State_Crop_Progress_and_Condition/', 'https://www.opb.org/science_environment/', 'https://www.gov.uk/pensionwise', 'https://farmwildlife.info/conservation-headlands/', 'https://www.frontiersin.org/books', 'https://www.usgs.gov/media/images/map-croplands-united-states', 'https://nph.onlinelibrary.wiley.com/doi/full/10.1111/nph.17610#nph17610-sec-0024-title', 'https://ourworldindata.org/literacy', 'https://futurefarmermag.com/trending/', 'https://mg.ucanr.edu/volunteer/', 'https://www.gov.uk/alerts', 'https://planthardiness.ars.usda.gov/pages/view-maps?syclid=cgei4esf7cbk7erj8pfg&utm_campaign=emailmarketing_124777955462&utm_medium=email&utm_source=shopify_email', 'https://www.sciencedirect.com/journal/joule', 'https://www.gov.uk/helpforhouseholds', 'https://bigdata.cgiar.org/rss-article/', 'https://www.parsehub.com/blog/techcrunch/', 'https://catalog.data.gov/dataset/kepler', 'https://downloads.usda.library.cornell.edu/usda-esmis/files/zs25x844t/2514pw18b/vd66x900n/grain.pdf', 'https://www.fws.gov/sacramento/', 'https://repository.cimmyt.org/xmlui/bitstream/handle/10883/859/25152.pdf', 'https://www.gov.uk/coronavirus', 'https://repository.cimmyt.org/handle/10883/19718', 'https://www.parsehub.com/blog/what-is-data-harvesting-everything-you-need-to-know/', 'https://usda.github.io/data-standards/data-exchange.html', 'https://mg.ucanr.edu/Impacts_/', 'https://www.parsehub.com/pricing', 'https://www.lexisnexis.com/', 'https://www.pgc.pa.gov/HuntTrap/Hunting/HarvestDataandMaps/Pages/default.aspx', 'https://withleaf.io/whats-new', 'https://www.farm-and-food.com/kontakt/', 'https://nph.onlinelibrary.wiley.com/doi/10.1111/nph.18771', 'https://www.lawinsider.com/tags', 'https://fsa.usda.gov/online-services/farm-plus/index', 'https://eos.com/pt/', 'https://www.harvestyourdata.com/examples/inspections/', 'https://mg.ucanr.edu/Sponsor_/', 'https://wildlife.utah.gov/monkeypox.html', 'https://www.agriculture.com/about-us', 'https://nph.onlinelibrary.wiley.com/journal/25722611', 'https://www.frontiersin.org/articles/10.3389/fpls.2022.989304/full', 'https://catalog.data.gov/dataset/ant', 'https://farmwildlife.info/posts/', 'https://futurefarmermag.com/contact/', 'https://usda.github.io/data-standards/data-elements/Administrative_County_Fsa_Code.html', 'https://repository.cimmyt.org/handle/10883/22077', 'https://wdfw.wa.gov/publications/00538', 'https://bigdata.cgiar.org/partner/', 'https://www.arcgis.com/home/item.html?id=b9b1b422198944fbbd5250b3241691b6', 'https://www.fsa.usda.gov/news-room/efoia/electronic-reading-room/frequently-requested-information/crop-acreage-data/index', 'https://www.nap.edu/', 'https://www.opb.org/culture/', 'https://www.nass.usda.gov/Charts_and_Maps/', 'https://www.acrevalue.com/about/', 'https://ourworldindata.org/homicides', 'https://futurefarmermag.com/about/', 'https://www.gov.wales/childcare', 'https://medium.com/', 'https://www.youtube.com/c/primevideo', 'https://www.frontiersin.org/articles/458896', 'https://bigdata.cgiar.org/digital-intervention/', 'https://ourworldindata.org/funding', 'https://www.acrevalue.com/sales/PA/', 'https://www.acrevalue.com/map/ND/', 'https://usda.github.io/data-standards/contribute.html', 'https://www.octoparse.com/pricing', 'https://www.farmingfornature.ie/about/', 'https://futurefarmermag.com/bioform/', 'https://blogs.worldbank.org/transport', 'https://www.nass.usda.gov/Statistics_by_Subject/', 'https://www.arcgis.com/features/features.html', 'https://www.lawinsider.com/clauses', 'https://gisgeography.com/free-global-land-cover-land-use-data/#what-are-the-top-data-sources-for-world-land-cover', 'https://planthardiness.ars.usda.gov/pages/map-downloads', 'https://www.opb.org/', 'https://www.adfg.alaska.gov/techpap/tp325.pdf', 'https://www.agriculture.com/radio', 'https://www.youtube.com/@encuentro', 'https://www.pgc.pa.gov/Education/WildlifeNotesIndex/Pages/default.aspx', 'https://www.fsa.usda.gov/FSA/createRSS?newstype=notices', 'https://secure.wildlife.alaska.gov/index.cfm?adfg=harvest.main', 'https://acsess.onlinelibrary.wiley.com/journal/14350645', 'https://www.frontiersin.org/articles/10.3389/fpls.2022.989304/full#h3', 'https://www.frontiersin.org/articles/578431', 'https://usda.github.io/data-standards/data-elements/business_rules.html', 'https://en.wikipedia.org/wiki/Boundaries_in_landscape_history', 'https://data.nal.usda.gov/iso-topic-category-codes/boundaries', 'https://en.wikipedia.org/wiki/Michelle_Yeoh', 'https://gisgeography.com/free-global-land-cover-land-use-data/#4-osm-land-use-data', 'https://www.nap.edu/author/ACRPLEGAL', 'https://repository.cimmyt.org/handle/10883/22040', 'https://ericsentell.medium.com/', 'https://www.field-boundary.com/team', 'https://www.sciencedirect.com/science/article/pii/S0308521X01000567', 'https://www.gov.wales/atisn17300', 'https://www.fws.gov/policy/', 'https://gisgeography.com/cubesat/', 'https://www.sciencedirect.com/journal/chemosphere', 'https://www.agriculture.com/technology/mobile', 'https://usda.library.cornell.edu/concern/publications/fq977t77k', 'https://www.sciencedirect.com/journal/biomaterials', 'https://www.viqtorysports.com/courses/', 'https://catalog.data.gov/harvest/ncdc', 'https://www.lawinsider.com/', 'https://www.opb.org/contact', 'https://secure.wildlife.alaska.gov/TargetedHunts/', 'https://www.lawinsider.com/dictionary/bbo', 'https://blogs.worldbank.org/sustainablecities', 'https://ourworldindata.org/tourism', 'https://eos.com/blog/', 'https://gen.medium.com/', 'https://www.fws.gov/midwest/', 'https://www.farm-and-food.com/en/fields-of-innovation/agronomic-data/', 'https://wildlife.utah.gov/', 'https://www.adfg.alaska.gov/sf/sportfishingsurvey/', 'https://acsess.onlinelibrary.wiley.com/loi/14350661', 'https://www.gov.wales/predictive-agricultural-land-classification-map-production-version-2', 'https://wildlife.utah.gov/hunting/main-hunting-page/big-game/big-game-harvest-data.html', 'https://blogs.worldbank.org/ja', 'https://www.harvestyourdata.com/products/droidsurvey/', 'https://www.harvestyourdata.com/', 'https://gisgeography.com/qfield/', 'https://www.lawinsider.com/dictionary/execom', 'https://www.viqtorysports.com/books/', 'https://ourworldindata.org/urbanization', 'https://wildlife.utah.gov/reward.html', 'https://www.sciencedirect.com/journal/appetite', 'https://www.researchgate.net/topics', 'https://www.farmingfornature.ie/topics/', 'https://downloads.usda.library.cornell.edu/usda-esmis/files/6969z084j/4m90g802x/2227p2848/AMS_2688.PDF', 'https://farmdocdaily.illinois.edu/sponsors/strategic-farm-marketing', 'https://ourworldindata.org/hygiene', 'https://www.adfg.alaska.gov/sf/sarr/awc/', 'https://eos.com/landviewer/nepal/', 'https://www.researchgate.net/search', 'https://downloads.usda.library.cornell.edu/usda-esmis/files/6q182k15b/w6635f813/fx71c052t/AMS_2049.PDF', 'https://www.octoparse.com/faq', 'https://catalog.data.gov/dataset?tags=plant-growth', 'https://planthardiness.ars.usda.gov/pages/view-maps?syclid=cggeo9sf7cbhtn7uh5eg&utm_campaign=emailmarketing_124777955462&utm_medium=email&utm_source=shopify_email', 'https://data.nal.usda.gov/node/12498/download', 'https://www.farm-and-food.com/category/proteine/', 'https://www.gov.wales/leader', 'https://www.parsehub.com/blog/raw-data/', 'https://blogs.worldbank.org/developmenttalk', 'https://www.pgc.pa.gov/InformationResources/CareersandVolunteers/Pages/default.aspx', 'https://www.usgs.gov/node/287986', 'https://www.gov.uk/whistleblowing', 'https://en.wikipedia.org/wiki/Kansas_City_Chiefs', 'https://wildlife.utah.gov/teamwildlife.html', 'https://www.lexisnexis.com/hottopics/codeofvtrules/', 'https://planthardiness.ars.usda.gov/pages/about', 'https://www.farmers.gov/your-business', 'https://en.wikipedia.org/wiki/Vietnam', 'https://catalog.data.gov/dataset/streamcat', 'https://www.parsehub.com/blog/', 'https://www.pgc.pa.gov/InformationResources/Pages/HuntersSharingTheHarvest.aspx', 'https://farmwildlife.info/in-practice/', 'https://withleaf.io/blog', 'https://futurefarmermag.com/contributors/', 'https://www.acrevalue.com/sales/LA/', 'https://bigdata.cgiar.org/media-mention/', 'https://acsess.onlinelibrary.wiley.com/loi/15372537', 'https://withleaf.io/yourdatawithleaf/', 'https://eos.com/company/philosophy/', 'https://eos.com/eossat/', 'https://www.youtube.com/xb1_help', 'https://withleaf.io/company/careers', 'https://repository.cimmyt.org/handle/10883/21733', 'https://www.sciencedirect.com/journal/vaccine', 'https://www.harvestyourdata.com/iPadAndiPhoneSurveyApp/', 'https://catalog.data.gov/organization/', 'https://www.agriculture.com/tv', 'https://acsess.onlinelibrary.wiley.com/journal/15391663', 'https://farmdocdaily.illinois.edu/', 'https://ourworldindata.org/land-use#how-much-land-do-countries-use-for-agriculture', 'https://data.nal.usda.gov/node/12826/download', 'https://www.farmers.gov/conservation', 'https://downloads.usda.library.cornell.edu/usda-esmis/files/4m90dv511/cj82m9490/xg94jr07m/uscp0122.pdf', 'https://catalog.data.gov/dataset/icomplaints', 'https://www.adfg.alaska.gov/index.cfm?adfg=subsistence.harvest', 'https://planthardiness.ars.usda.gov/pages/view-maps', 'https://wdfw.wa.gov/', 'https://farmdocdaily.illinois.edu/farmdoc-team/tom-osaben', 'https://www.frontiersin.org/journals/radiology', 'https://www.usgs.gov/node/282963', 'https://www.pgc.pa.gov/InformationResources/GetInvolved/Pages/Contests.aspx', 'https://www.harvestyourdata.com/learn/'}\n"
          ]
        }
      ],
      "source": [
        "print(len(target_sites))\n",
        "print(target_sites)"
      ]
    },
    {
      "cell_type": "markdown",
      "metadata": {
        "id": "LFB67ekhFKz8"
      },
      "source": [
        "# Download Code\n",
        "Find all links on sites found and download them"
      ]
    },
    {
      "cell_type": "code",
      "execution_count": null,
      "metadata": {
        "colab": {
          "background_save": true
        },
        "id": "xgYtab0pEjFI",
        "outputId": "fc1585bd-22e6-4c91-9463-3c62a32584dc"
      },
      "outputs": [
        {
          "name": "stderr",
          "output_type": "stream",
          "text": [
            "WARNING:bs4.dammit:Some characters could not be decoded, and were replaced with REPLACEMENT CHARACTER.\n",
            "WARNING:bs4.dammit:Some characters could not be decoded, and were replaced with REPLACEMENT CHARACTER.\n",
            "WARNING:bs4.dammit:Some characters could not be decoded, and were replaced with REPLACEMENT CHARACTER.\n"
          ]
        },
        {
          "name": "stdout",
          "output_type": "stream",
          "text": [
            "Error occurred while downloading data from https://secure.wildlife.alaska.gov/CommunityHarvest/Home/Group: HTTPSConnectionPool(host='secure.wildlife.alaska.gov', port=443): Max retries exceeded with url: /CommunityHarvest/Home/Group (Caused by SSLError(SSLCertVerificationError(1, '[SSL: CERTIFICATE_VERIFY_FAILED] certificate verify failed: unable to get local issuer certificate (_ssl.c:1129)')))\n",
            "Error occurred while downloading data from https://secure.wildlife.alaska.gov/CommunityHarvest: HTTPSConnectionPool(host='secure.wildlife.alaska.gov', port=443): Max retries exceeded with url: /CommunityHarvest (Caused by SSLError(SSLCertVerificationError(1, '[SSL: CERTIFICATE_VERIFY_FAILED] certificate verify failed: unable to get local issuer certificate (_ssl.c:1129)')))\n",
            "Error occurred while downloading data from https://www.fws.gov/refuge/delevan: HTTPSConnectionPool(host='www.fws.gov', port=443): Max retries exceeded with url: /refuge/delevan (Caused by NewConnectionError('<urllib3.connection.HTTPSConnection object at 0x7f0237269e20>: Failed to establish a new connection: [Errno 110] Connection timed out'))\n"
          ]
        },
        {
          "name": "stderr",
          "output_type": "stream",
          "text": [
            "WARNING:bs4.dammit:Some characters could not be decoded, and were replaced with REPLACEMENT CHARACTER.\n"
          ]
        },
        {
          "name": "stdout",
          "output_type": "stream",
          "text": [
            "Error occurred while downloading data from https://secure.wildlife.alaska.gov/CommunityHarvest/Home/Household: HTTPSConnectionPool(host='secure.wildlife.alaska.gov', port=443): Max retries exceeded with url: /CommunityHarvest/Home/Household (Caused by SSLError(SSLCertVerificationError(1, '[SSL: CERTIFICATE_VERIFY_FAILED] certificate verify failed: unable to get local issuer certificate (_ssl.c:1129)')))\n"
          ]
        },
        {
          "name": "stderr",
          "output_type": "stream",
          "text": [
            "WARNING:bs4.dammit:Some characters could not be decoded, and were replaced with REPLACEMENT CHARACTER.\n",
            "WARNING:bs4.dammit:Some characters could not be decoded, and were replaced with REPLACEMENT CHARACTER.\n",
            "WARNING:bs4.dammit:Some characters could not be decoded, and were replaced with REPLACEMENT CHARACTER.\n"
          ]
        },
        {
          "name": "stdout",
          "output_type": "stream",
          "text": [
            "Error occurred while downloading data from https://secure.wildlife.alaska.gov/ePermit: HTTPSConnectionPool(host='secure.wildlife.alaska.gov', port=443): Max retries exceeded with url: /ePermit (Caused by SSLError(SSLCertVerificationError(1, '[SSL: CERTIFICATE_VERIFY_FAILED] certificate verify failed: unable to get local issuer certificate (_ssl.c:1129)')))\n"
          ]
        },
        {
          "name": "stderr",
          "output_type": "stream",
          "text": [
            "WARNING:bs4.dammit:Some characters could not be decoded, and were replaced with REPLACEMENT CHARACTER.\n",
            "WARNING:bs4.dammit:Some characters could not be decoded, and were replaced with REPLACEMENT CHARACTER.\n"
          ]
        },
        {
          "name": "stdout",
          "output_type": "stream",
          "text": [
            "Error occurred while downloading data from https://secure.wildlife.alaska.gov/SubsistenceHunt/Home/Identity: HTTPSConnectionPool(host='secure.wildlife.alaska.gov', port=443): Max retries exceeded with url: /SubsistenceHunt/Home/Identity (Caused by SSLError(SSLCertVerificationError(1, '[SSL: CERTIFICATE_VERIFY_FAILED] certificate verify failed: unable to get local issuer certificate (_ssl.c:1129)')))\n"
          ]
        },
        {
          "name": "stderr",
          "output_type": "stream",
          "text": [
            "WARNING:bs4.dammit:Some characters could not be decoded, and were replaced with REPLACEMENT CHARACTER.\n",
            "WARNING:bs4.dammit:Some characters could not be decoded, and were replaced with REPLACEMENT CHARACTER.\n",
            "WARNING:bs4.dammit:Some characters could not be decoded, and were replaced with REPLACEMENT CHARACTER.\n"
          ]
        },
        {
          "name": "stdout",
          "output_type": "stream",
          "text": [
            "Error occurred while downloading data from https://secure.wildlife.alaska.gov/ePermit/Home/PrintPermitLandingPage: HTTPSConnectionPool(host='secure.wildlife.alaska.gov', port=443): Max retries exceeded with url: /ePermit/Home/PrintPermitLandingPage (Caused by SSLError(SSLCertVerificationError(1, '[SSL: CERTIFICATE_VERIFY_FAILED] certificate verify failed: unable to get local issuer certificate (_ssl.c:1129)')))\n"
          ]
        },
        {
          "name": "stderr",
          "output_type": "stream",
          "text": [
            "WARNING:bs4.dammit:Some characters could not be decoded, and were replaced with REPLACEMENT CHARACTER.\n",
            "WARNING:bs4.dammit:Some characters could not be decoded, and were replaced with REPLACEMENT CHARACTER.\n",
            "WARNING:bs4.dammit:Some characters could not be decoded, and were replaced with REPLACEMENT CHARACTER.\n",
            "WARNING:bs4.dammit:Some characters could not be decoded, and were replaced with REPLACEMENT CHARACTER.\n",
            "WARNING:bs4.dammit:Some characters could not be decoded, and were replaced with REPLACEMENT CHARACTER.\n",
            "WARNING:bs4.dammit:Some characters could not be decoded, and were replaced with REPLACEMENT CHARACTER.\n"
          ]
        },
        {
          "name": "stdout",
          "output_type": "stream",
          "text": [
            "Error occurred while downloading data from https://secure.wildlife.alaska.gov/ePermit/Home/ExtraDemog: HTTPSConnectionPool(host='secure.wildlife.alaska.gov', port=443): Max retries exceeded with url: /ePermit/Home/ExtraDemog (Caused by SSLError(SSLCertVerificationError(1, '[SSL: CERTIFICATE_VERIFY_FAILED] certificate verify failed: unable to get local issuer certificate (_ssl.c:1129)')))\n"
          ]
        },
        {
          "name": "stderr",
          "output_type": "stream",
          "text": [
            "WARNING:bs4.dammit:Some characters could not be decoded, and were replaced with REPLACEMENT CHARACTER.\n"
          ]
        },
        {
          "name": "stdout",
          "output_type": "stream",
          "text": [
            "Error occurred while downloading data from https://secure.wildlife.alaska.gov/ePermit/Home/Demog: HTTPSConnectionPool(host='secure.wildlife.alaska.gov', port=443): Max retries exceeded with url: /ePermit/Home/Demog (Caused by SSLError(SSLCertVerificationError(1, '[SSL: CERTIFICATE_VERIFY_FAILED] certificate verify failed: unable to get local issuer certificate (_ssl.c:1129)')))\n"
          ]
        },
        {
          "name": "stderr",
          "output_type": "stream",
          "text": [
            "WARNING:bs4.dammit:Some characters could not be decoded, and were replaced with REPLACEMENT CHARACTER.\n",
            "WARNING:bs4.dammit:Some characters could not be decoded, and were replaced with REPLACEMENT CHARACTER.\n",
            "WARNING:bs4.dammit:Some characters could not be decoded, and were replaced with REPLACEMENT CHARACTER.\n"
          ]
        },
        {
          "name": "stdout",
          "output_type": "stream",
          "text": [
            "Error occurred while downloading data from https://downloads.usda.library.cornell.edu/usda-esmis/files/2j62s492k/ws85bh854/k930cz63g/FVWAPLPROC.PDF: subclasses of ParserBase must override error()\n",
            "Error occurred while downloading data from https://secure.wildlife.alaska.gov/SubsistenceHunt: HTTPSConnectionPool(host='secure.wildlife.alaska.gov', port=443): Max retries exceeded with url: /SubsistenceHunt (Caused by SSLError(SSLCertVerificationError(1, '[SSL: CERTIFICATE_VERIFY_FAILED] certificate verify failed: unable to get local issuer certificate (_ssl.c:1129)')))\n"
          ]
        },
        {
          "name": "stderr",
          "output_type": "stream",
          "text": [
            "WARNING:bs4.dammit:Some characters could not be decoded, and were replaced with REPLACEMENT CHARACTER.\n",
            "WARNING:bs4.dammit:Some characters could not be decoded, and were replaced with REPLACEMENT CHARACTER.\n",
            "WARNING:bs4.dammit:Some characters could not be decoded, and were replaced with REPLACEMENT CHARACTER.\n"
          ]
        },
        {
          "name": "stdout",
          "output_type": "stream",
          "text": [
            "Error occurred while downloading data from https://secure.wildlife.alaska.gov/index.cfm?adfg=harvest.main: HTTPSConnectionPool(host='secure.wildlife.alaska.gov', port=443): Max retries exceeded with url: /index.cfm?adfg=harvest.main (Caused by SSLError(SSLCertVerificationError(1, '[SSL: CERTIFICATE_VERIFY_FAILED] certificate verify failed: unable to get local issuer certificate (_ssl.c:1129)')))\n",
            "Error occurred while downloading data from https://secure.wildlife.alaska.gov/TargetedHunts/: HTTPSConnectionPool(host='secure.wildlife.alaska.gov', port=443): Max retries exceeded with url: /TargetedHunts/ (Caused by SSLError(SSLCertVerificationError(1, '[SSL: CERTIFICATE_VERIFY_FAILED] certificate verify failed: unable to get local issuer certificate (_ssl.c:1129)')))\n"
          ]
        },
        {
          "name": "stderr",
          "output_type": "stream",
          "text": [
            "WARNING:bs4.dammit:Some characters could not be decoded, and were replaced with REPLACEMENT CHARACTER.\n",
            "WARNING:bs4.dammit:Some characters could not be decoded, and were replaced with REPLACEMENT CHARACTER.\n",
            "WARNING:bs4.dammit:Some characters could not be decoded, and were replaced with REPLACEMENT CHARACTER.\n"
          ]
        }
      ],
      "source": [
        "#Define a list of data types to download\n",
        "data_types = ['.csv', '.xls', '.json', '.kml', '.kmz', '.shp']\n",
        "tags = ['Agronomic data','Field boundary','Farm boundaries','Field boundary data','Agricultural land boundaries','Crop acreage data','Land use data','Climate zones for agriculture','Harvest data','Plant growth data']\n",
        "download_links = set()\n",
        "\n",
        "for link in target_sites:\n",
        "    try:\n",
        "        response = requests.get(link)\n",
        "        soup = BeautifulSoup(response.content, 'html.parser')\n",
        "        soup_find = soup.find_all('a')\n",
        "        for data_link in soup_find:\n",
        "            href = data_link.get('href')\n",
        "            if href and is_valid_data_type(href, data_types):\n",
        "                filename = href.split('/')[-1]\n",
        "                url = urllib.parse.urljoin(link, href)\n",
        "                download_links.add((filename, url))\n",
        "                response = requests.get(url)\n",
        "                with open(filename, 'wb') as file:\n",
        "                    file.write(response.content)\n",
        "    except Exception as e:\n",
        "        print(f\"Error occurred while downloading data from {link}: {e}\")\n",
        "\n",
        "with open('download_links.txt', 'w') as file:\n",
        "    for filename, link in download_links:\n",
        "        file.write(f\"{filename}, {link}\\n\")\n"
      ]
    },
    {
      "cell_type": "code",
      "execution_count": null,
      "metadata": {
        "colab": {
          "background_save": true
        },
        "id": "9y4qX3SlawpS",
        "outputId": "a0ba5659-0c1d-4d47-8b00-4839c3d2170a"
      },
      "outputs": [
        {
          "name": "stdout",
          "output_type": "stream",
          "text": [
            "set()\n"
          ]
        }
      ],
      "source": [
        "print(download_links)"
      ]
    }
  ],
  "metadata": {
    "colab": {
      "provenance": []
    },
    "kernelspec": {
      "display_name": "Python 3",
      "name": "python3"
    },
    "language_info": {
      "name": "python"
    }
  },
  "nbformat": 4,
  "nbformat_minor": 0
}